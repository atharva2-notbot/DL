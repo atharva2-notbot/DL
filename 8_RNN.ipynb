{
 "cells": [
  {
   "cell_type": "code",
   "execution_count": null,
   "id": "bc4aae95",
   "metadata": {},
   "outputs": [],
   "source": [
    "import numpy as np\n",
    "\n",
    "def sigmoid(x):\n",
    "    return 1 / (1 + np.exp(-x))\n",
    "\n",
    "def dsigmoid(x):\n",
    "    return x * (1 - x)\n",
    "\n",
    "def RNN(X, W_xh, W_hh, W_hy, b_h, b_y):\n",
    "    # X: Input sequence (batch_size, seq_len, input_dim)\n",
    "    # W_xh: Weight matrix from input to hidden layer (input_dim, hidden_dim)\n",
    "    # W_hh: Recurrent weight matrix (hidden_dim, hidden_dim)\n",
    "    # W_hy: Weight matrix from hidden layer to output layer (hidden_dim, output_dim)\n",
    "    # b_h: Bias for the hidden layer (hidden_dim,)\n",
    "    # b_y: Bias for the output layer (output_dim,)\n",
    "\n",
    "    hidden_state = np.zeros((X.shape[0], X.shape[1], W_hh.shape[0]))\n",
    "    output = np.zeros((X.shape[0], X.shape[1], W_hy.shape[1]))\n",
    "\n",
    "    for t in range(X.shape[1]):\n",
    "        hidden_state[:, t, :] = sigmoid(np.dot(X[:, t, :], W_xh) + np.dot(hidden_state[:, t-1, :], W_hh) + b_h)\n",
    "        output[:, t, :] = sigmoid(np.dot(hidden_state[:, t, :], W_hy) + b_y)\n",
    "\n",
    "    return output\n",
    "\n",
    "# Example usage:\n",
    "input_dim = 10\n",
    "hidden_dim = 5\n",
    "output_dim = 2\n",
    "seq_len = 4\n",
    "batch_size = 2\n",
    "\n",
    "X = np.random.rand(batch_size, seq_len, input_dim)\n",
    "W_xh = np.random.rand(input_dim, hidden_dim)\n",
    "W_hh = np.random.rand(hidden_dim, hidden_dim)\n",
    "W_hy = np.random.rand(hidden_dim, output_dim)\n",
    "b_h = np.zeros((hidden_dim,))\n",
    "b_y = np.zeros((output_dim,))\n",
    "\n",
    "output = RNN(X, W_xh, W_hh, W_hy, b_h, b_y)\n",
    "print(output)"
   ]
  }
 ],
 "metadata": {
  "kernelspec": {
   "display_name": "Python 3 (ipykernel)",
   "language": "python",
   "name": "python3"
  },
  "language_info": {
   "codemirror_mode": {
    "name": "ipython",
    "version": 3
   },
   "file_extension": ".py",
   "mimetype": "text/x-python",
   "name": "python",
   "nbconvert_exporter": "python",
   "pygments_lexer": "ipython3",
   "version": "3.11.5"
  }
 },
 "nbformat": 4,
 "nbformat_minor": 5
}
