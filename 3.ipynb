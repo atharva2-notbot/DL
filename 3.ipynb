{
 "cells": [
  {
   "cell_type": "code",
   "execution_count": null,
   "id": "8aad78ac",
   "metadata": {},
   "outputs": [],
   "source": [
    "import pandas as pd\n",
    "import tensorflow as tf\n",
    "from tensorflow.keras.models import Sequential\n",
    "from tensorflow.keras.layers import Dense\n",
    "from sklearn.model_selection import train_test_split\n",
    "import matplotlib.pyplot as plt\n",
    "\n",
    "# Load the dataset\n",
    "data = pd.read_csv(r\"D:\\Atharva\\STUDY\\I2IT\\BE\\Academic\\DL\\Practical\\SS_Dataset\\3 MNIST-20241105T053934Z-001\\3 MNIST\\mnist_784_csv.csv\")  # Replace with the actual path\n",
    "\n",
    "# Separate features and target\n",
    "X = data.drop(columns=['class']).values\n",
    "y = data['class'].values\n",
    "\n",
    "# Split the data into training and testing sets\n",
    "X_train, X_test, y_train, y_test = train_test_split(X, y, test_size=0.2, random_state=42)\n",
    "\n",
    "# Normalize the pixel values to (0-1)\n",
    "X_train, X_test = X_train / 255.0, X_test / 255.0\n",
    "\n",
    "# Build and compile the model\n",
    "model = Sequential([\n",
    "    Dense(128, activation='relu', input_shape=(X_train.shape[1],)),  # Input layer\n",
    "    Dense(64, activation='relu'),                                   # Hidden layer\n",
    "    Dense(10, activation='softmax')                                 # Output layer for 10 classes\n",
    "])\n",
    "model.compile(optimizer='adam', loss='sparse_categorical_crossentropy', metrics=['accuracy'])\n",
    "\n",
    "# Train the model\n",
    "model.fit(X_train, y_train, epochs=10, batch_size=32, validation_split=0.1)\n",
    "\n",
    "# Evaluate the model on the test set\n",
    "accuracy = model.evaluate(X_test, y_test)[1]\n",
    "print(f\"\\nTest Accuracy: {accuracy:.4f}\")\n",
    "\n",
    "# Make a prediction on the first test sample\n",
    "sample_index = 0  # Change this index for different test samples\n",
    "sample_data = X_test[sample_index].reshape(1, -1)\n",
    "predicted_label = model.predict(sample_data).argmax()\n",
    "\n",
    "# Get details of the test case\n",
    "test_case_details = X_test[sample_index].reshape(28, 28)  # Reshape for display\n",
    "\n",
    "# Print test case prediction\n",
    "print(\"\\nTest Case Prediction (Predicted Digit):\", predicted_label)\n",
    "\n",
    "# Plot the test case image\n",
    "plt.imshow(test_case_details, cmap='gray')\n",
    "plt.title(f'Predicted Digit: {predicted_label}')\n",
    "plt.axis('off')  # Turn off axis numbers and ticks\n",
    "plt.show()\n"
   ]
  }
 ],
 "metadata": {
  "kernelspec": {
   "display_name": "Python 3 (ipykernel)",
   "language": "python",
   "name": "python3"
  },
  "language_info": {
   "codemirror_mode": {
    "name": "ipython",
    "version": 3
   },
   "file_extension": ".py",
   "mimetype": "text/x-python",
   "name": "python",
   "nbconvert_exporter": "python",
   "pygments_lexer": "ipython3",
   "version": "3.11.4"
  }
 },
 "nbformat": 4,
 "nbformat_minor": 5
}
